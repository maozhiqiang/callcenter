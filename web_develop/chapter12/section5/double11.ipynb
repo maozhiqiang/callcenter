{
 "cells": [
  {
   "cell_type": "markdown",
   "metadata": {},
   "source": [
    "<div class=\"alert alert-success guide\">\n",
    "<p>使用指南:</p>\n",
    "<p>1.选择你想要操作的cell(左边有对应的`In [x]:`的区域), 点击; 这个区域会出现一个灰色的边框</p>\n",
    "<p>2.点击左上的按钮<button class='btn'><i class=\"icon-play\"></i></button>(或者使用快捷键ctrl+enter)</p>\n",
    "<p>3.区域下方会出现一个修改框,会有一些选项, 直接在里面输入要修改的数据就好了</p>\n",
    "<p>4.修改完毕点击提交按钮<button class=\"btn\">提交</button>, 按钮会短暂消失(方式重复按), 区域下方会看到执行成功的绿色提示,然后去页面就能看到最新的修改啦</p>\n",
    "</div>\n",
    "<div class=\"alert alert-error\">请谨慎操作线上数据!!</div>"
   ]
  },
  {
   "cell_type": "code",
   "execution_count": 1,
   "metadata": {
    "collapsed": false,
    "scrolled": true
   },
   "outputs": [],
   "source": [
    "set_review() # 修改图文推荐位点这里"
   ]
  },
  {
   "cell_type": "code",
   "execution_count": 2,
   "metadata": {
    "collapsed": false,
    "scrolled": true
   },
   "outputs": [],
   "source": [
    "set_boards() # 修改Story推荐位点这里"
   ]
  },
  {
   "cell_type": "code",
   "execution_count": 3,
   "metadata": {
    "collapsed": false,
    "scrolled": true
   },
   "outputs": [],
   "source": [
    "set_doulist() # 修改豆列推荐位点这里\n"
   ]
  }
 ],
 "metadata": {
  "kernelspec": {
   "display_name": "Double11",
   "language": "python",
   "name": "double11"
  },
  "language_info": {
   "codemirror_mode": {
    "name": "ipython",
    "version": 2
   },
   "file_extension": ".py",
   "mimetype": "text/x-python",
   "name": "python",
   "nbconvert_exporter": "python",
   "pygments_lexer": "ipython2",
   "version": "2.7.5"
  },
  "widgets": {
   "state": {
    "02f423c667e3414396cd31529ac06944": {
     "views": []
    },
    "03b5e0941d3340f7add79f8f69683b8d": {
     "views": []
    },
    "0631594600a94ac79c406fe30fa3264b": {
     "views": []
    },
    "065d4dee4a1a4e7487b649c380daddff": {
     "views": []
    },
    "099f048e34ab49ffb3417e685a663eb4": {
     "views": []
    },
    "0a49b4b7514f41fb8c3d115566de80de": {
     "views": []
    },
    "0e49494870ca4adcaab7b63f81cdb763": {
     "views": []
    },
    "130104f278054159bcf24fbfb3b597d7": {
     "views": []
    },
    "1333caab23924c07813fc73ff8725f81": {
     "views": []
    },
    "14da37034a7f4348bb0487be64e843d8": {
     "views": []
    },
    "15053b22b2684e77906052d066d70728": {
     "views": []
    },
    "152753d1d8b341e58d6afa0dea570efc": {
     "views": []
    },
    "158f865be45f49ce8432edc8ef96a207": {
     "views": []
    },
    "1b4bf55153c3485ea789220c8c7670a6": {
     "views": []
    },
    "1c0edd76bb7c4dceb365b31d3cd47a08": {
     "views": []
    },
    "1e807da269e9470785b5e14ca06b50ca": {
     "views": []
    },
    "2160c4ee10bc4036b9aa354269a6ec2f": {
     "views": []
    },
    "23cd9e3ab9744230a1821fb4182c2b25": {
     "views": []
    },
    "24e54b8102114c51a1953fecafbf79b8": {
     "views": []
    },
    "262c47f8689c4353a360d9e458eae283": {
     "views": []
    },
    "28e2a40396f94fe18d1db512dbc2be8d": {
     "views": []
    },
    "29baa70d89fa498f920bcac0e49c8e15": {
     "views": []
    },
    "2a63456e473c47859bd44c76ad7914f8": {
     "views": []
    },
    "2c3d8534eeb247ff9d3652a23bd43e38": {
     "views": []
    },
    "2d03f0ceb3bb461bb901915b53ba80ab": {
     "views": []
    },
    "304fb971cf9f4e3daa6df82376a42072": {
     "views": []
    },
    "3200f1500df14677aa3516af7cbbe899": {
     "views": []
    },
    "3867b4376ad54b78b1f9ba06828e8be2": {
     "views": []
    },
    "3f435034ec5e4fe6803c373180068eb2": {
     "views": []
    },
    "3f8b6c1176cd45308be1c3a68faf4786": {
     "views": []
    },
    "4062b6cf12ae4439a3554f60d1399bd6": {
     "views": []
    },
    "42e33acc558843d3a07fff0068d24e66": {
     "views": [
      {
       "cell_index": 3
      }
     ]
    },
    "4486a252658547c99f570a150d4fb435": {
     "views": []
    },
    "477ae4de790d4c34a74b133c7c3f084a": {
     "views": []
    },
    "49ce11df26124775899a5ad228285fdc": {
     "views": []
    },
    "4b1716e5090a4b4794012331c0b18760": {
     "views": []
    },
    "4e6371347cba46b284c08bb7f8256a0f": {
     "views": []
    },
    "4ebdb9c5496745fc98668edb44594920": {
     "views": []
    },
    "4fb9bd7a89f14f48bd2c7197ecc9f8fb": {
     "views": []
    },
    "52d36639b2724ac6ba4541cc953b5640": {
     "views": []
    },
    "54769b0987a4418ea4d8ad07c4f15f00": {
     "views": []
    },
    "5966b19797f4474daba89eaecb6aa027": {
     "views": []
    },
    "5d7f0bd453c64b908dd6e716288f1db1": {
     "views": []
    },
    "5eb6289baac24892b4079d7544e2f08e": {
     "views": []
    },
    "62a8b62461164973b615d0a905835688": {
     "views": []
    },
    "645f2e8db46e4f7e80e8ce9e2a7d425d": {
     "views": []
    },
    "6567daef2ee140a09ac67c00030cae63": {
     "views": []
    },
    "65745b88b5b045a5a632a64a8240654d": {
     "views": []
    },
    "66bf4ad8b1b348e8aa6f06b1e1b9cb1d": {
     "views": []
    },
    "6bd22ddf6ad4497ebf3f43ab62780f23": {
     "views": []
    },
    "7054474c857a4403aa6640a8061395a0": {
     "views": []
    },
    "7106536690df4351aab3fba8125c966a": {
     "views": []
    },
    "73487f59535e497795fdb3290156e659": {
     "views": []
    },
    "738042b3820246d8a53fbd7fabbfba32": {
     "views": []
    },
    "73aeb0229abc4e1897f914416304a2ae": {
     "views": []
    },
    "74206666f37f4f509e76fde1e7a0af5f": {
     "views": []
    },
    "74219fbb66b8469c8b5abee8b03cb6b9": {
     "views": []
    },
    "76377539671b4f6fa439f0b12a64646f": {
     "views": []
    },
    "7a05949a24a14ab0a6c9b68ad818de8a": {
     "views": []
    },
    "7df056cb9d03499eb7c16a819762f8c3": {
     "views": []
    },
    "7f1084b61aa74d1686364d5c47ceafee": {
     "views": []
    },
    "7fbd9e2faa8646e89cccbd71571484a8": {
     "views": []
    },
    "805c794b797c417c83da30b9c9ac5c8d": {
     "views": []
    },
    "80a6cf7823334d8fab656e167eed5a7a": {
     "views": [
      {
       "cell_index": 2
      }
     ]
    },
    "81962afbc36d4ef39c5d540e3a57bc25": {
     "views": []
    },
    "821783e9475448cca5cce0de3ecdd878": {
     "views": []
    },
    "83ea31e393cf4e23b4c4b55625addf83": {
     "views": []
    },
    "846ff45b95d5414aaf95c5eba054ba6f": {
     "views": []
    },
    "85a6614fff0b4616b52b9289643ffa07": {
     "views": []
    },
    "85a9740212df419193084b150162299b": {
     "views": []
    },
    "87e8c6642005426baca1dc4f96fe1b2f": {
     "views": []
    },
    "88002b0297ae4ff3ac26de8b2387fc9f": {
     "views": []
    },
    "88aaf3f854f649f485a2dbeb4af40732": {
     "views": []
    },
    "8b8331bdc09a4c77b619bea75442f4d0": {
     "views": []
    },
    "8ec987cda20a43b0baae1fbe458f2350": {
     "views": []
    },
    "94e081d4da0849629fc5d01e6f3d03c7": {
     "views": []
    },
    "94ed210bc77547bfb2b926ead2883bf7": {
     "views": []
    },
    "95adde4a562f4b78978b5db5fdbb32eb": {
     "views": []
    },
    "99d060b4df884fc989336858aff48c05": {
     "views": []
    },
    "9a6a67bdca054160969d1c8aa9b2811f": {
     "views": []
    },
    "9bb743b08f6442989c736ef4eaee96b9": {
     "views": [
      {
       "cell_index": 1
      }
     ]
    },
    "9db4238e16934e329a0cdacc97b6a613": {
     "views": []
    },
    "a04f2888368848ac85c1dcf363d57d84": {
     "views": []
    },
    "a139c0b259814d1f95f9b7dc90b0eca0": {
     "views": []
    },
    "a15490392592488fa13cae733bfce854": {
     "views": []
    },
    "a1fee6e2221541d4a3f4157e87393c7e": {
     "views": []
    },
    "a34aaacf85cf41ab9e712cce180d6f04": {
     "views": []
    },
    "a3a3ae13a37443b98fc22ff512454c9e": {
     "views": []
    },
    "a52767dc8a574e4bb5fc805ba15baeb7": {
     "views": []
    },
    "a713382fbb044aa3b26d46e30e32b3b8": {
     "views": []
    },
    "a877db61b6a64a6ebb93fd37821e217e": {
     "views": []
    },
    "a9a64c5b745849dbabf8780dcfe1ffcd": {
     "views": []
    },
    "ab85e9b40b774b6b962973d2d5a15806": {
     "views": []
    },
    "ac1aaaa1f00549b3867ed5231218a6bc": {
     "views": []
    },
    "b0f067cade174702bb79ccd8004436da": {
     "views": []
    },
    "b2318550f52e4c829bc92ef6a82cbb38": {
     "views": []
    },
    "b26684db205a434981497ef5d9071558": {
     "views": []
    },
    "b400093459db4d119d9ba47e1c42ee5b": {
     "views": []
    },
    "b758b313f7964032b6274b793fb17a1e": {
     "views": []
    },
    "b99ac146a01848cbbf74285517721512": {
     "views": []
    },
    "bb0d922a70ff4043b7283526c4aa372e": {
     "views": []
    },
    "bbbe29d46b814509a072a803a9e00043": {
     "views": []
    },
    "bbd57bcb715e41f0b506acda245c9464": {
     "views": []
    },
    "bbf720f47a1543cd9973f3f072b711d7": {
     "views": []
    },
    "bf684cded5474c9a8b51f1abbcf8237e": {
     "views": []
    },
    "c02c453e870c4876b405c0e71e44d893": {
     "views": []
    },
    "c13bd803a0b9428b80558db6dd57bfad": {
     "views": []
    },
    "c4bb19d1d1d04645b82f1a7d3ac67991": {
     "views": []
    },
    "c515a87d758a4be282eea61bac351384": {
     "views": []
    },
    "c94e07084cf943cbb01981e63f8b119c": {
     "views": []
    },
    "cb79b50474eb4722b899eb3ad0819cfc": {
     "views": []
    },
    "cbd35ca1e44745e48045f2b1921277f5": {
     "views": []
    },
    "cddf6be8f90542f9bf8520de7d152bbf": {
     "views": []
    },
    "d066c8a54f2a4b9dbc0bb3122f07edcf": {
     "views": []
    },
    "d0a4372f6dcc4efea3aff1681fc5a533": {
     "views": []
    },
    "d2497054c8e244709ce2660c8f44178e": {
     "views": []
    },
    "d3a4f7f5c4fa49f38aea953ff49bfbef": {
     "views": []
    },
    "d90cab06012f4e19bc4523cfa0f526bf": {
     "views": []
    },
    "df8fdc4a003b439db83bcd9040ea58c6": {
     "views": []
    },
    "e0bbd2aa74a1466c9520b6ce1bcacd13": {
     "views": []
    },
    "e6de9cc2923a49e3bdb9f56379e16988": {
     "views": []
    },
    "e99f28e772b74e938386972c3933b473": {
     "views": []
    },
    "eb1a00198c034a0fb551f02c424b023d": {
     "views": []
    },
    "ecfe818313c14b2cb0d09243c88866d3": {
     "views": []
    },
    "eeea6086333641e1b993e0e96a09f5fe": {
     "views": []
    },
    "f18b3fbaa87c45a68651be88e9e7fc40": {
     "views": []
    },
    "f1f0d412d9b147c88d97edce6d0d63f8": {
     "views": []
    },
    "f400adca49a645b9b05ffda6e0a16317": {
     "views": []
    },
    "f62d5d45d8524385b2f52356d9d6214a": {
     "views": []
    },
    "f6bdf3ec547043c5a7ecce91b4a08077": {
     "views": []
    },
    "f86103fb0e914c548a4137cadbbabd45": {
     "views": []
    },
    "f991603adc374c3bb930ad95c052c2ed": {
     "views": []
    },
    "f9ad41e739d24f85aa3cf5ccaaf62189": {
     "views": []
    },
    "fa317bc775d041f580bd128872df8251": {
     "views": []
    },
    "fb54d9d2e650437eb29880c53ef9e0be": {
     "views": []
    },
    "ffb402bbdbb74e438c74162b967087a5": {
     "views": []
    }
   },
   "version": "1.1.1"
  }
 },
 "nbformat": 4,
 "nbformat_minor": 0
}
